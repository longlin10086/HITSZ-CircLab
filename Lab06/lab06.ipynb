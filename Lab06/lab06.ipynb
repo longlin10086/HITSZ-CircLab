{
 "cells": [
  {
   "cell_type": "markdown",
   "metadata": {},
   "source": [
    "## table 1-1"
   ]
  },
  {
   "cell_type": "code",
   "execution_count": 11,
   "metadata": {},
   "outputs": [],
   "source": [
    "U_1 = [0.297, 0.261, 0.232, 0.210, 0.176, 0.151, 0.133]\n",
    "U_2 = [0.147, 0.258, 0.345, 0.410, 0.514, 0.588, 0.643]\n",
    "U_R = [0.742, 0.779, 0.807, 0.829, 0.864, 0.888, 0.906]\n",
    "I_1 = []\n",
    "I_2 = []\n",
    "g1 = []\n",
    "g2 = []\n",
    "g = []\n",
    "\n",
    "R = 1 #k omega\n",
    "R_L = [0.5, 1, 1.5, 2, 3, 4, 5] #k omega"
   ]
  },
  {
   "cell_type": "code",
   "execution_count": 12,
   "metadata": {},
   "outputs": [],
   "source": [
    "for i in range(0, len(U_1)):\n",
    "    I_1.append(round(U_1[i]/R, 3))\n",
    "    I_2.append(round(U_2[i]/R_L[i], 3))\n",
    "    g1.append(round(I_1[i]/U_2[i], 3))\n",
    "    g2.append(round(I_2[i]/U_1[i], 3))\n",
    "    g.append(round((g1[i]+g2[i])/2, 3))"
   ]
  },
  {
   "cell_type": "code",
   "execution_count": 13,
   "metadata": {},
   "outputs": [
    {
     "name": "stdout",
     "output_type": "stream",
     "text": [
      "I1 = [0.297, 0.261, 0.232, 0.21, 0.176, 0.151, 0.133]\n",
      "I2 = [0.294, 0.258, 0.23, 0.205, 0.171, 0.147, 0.129]\n",
      "g1 = [2.02, 1.012, 0.672, 0.512, 0.342, 0.257, 0.207]\n",
      "g2 = [0.99, 0.989, 0.991, 0.976, 0.972, 0.974, 0.97]\n",
      "g = [1.505, 1.0, 0.832, 0.744, 0.657, 0.615, 0.589]\n"
     ]
    }
   ],
   "source": [
    "print(f\"I1 = {I_1}\")\n",
    "print(f\"I2 = {I_2}\")\n",
    "print(f\"g1 = {g1}\")\n",
    "print(f\"g2 = {g2}\")\n",
    "print(f\"g = {g}\")\n",
    "\n",
    "I_1.clear()\n",
    "I_2.clear()\n",
    "g1.clear()\n",
    "g2.clear()\n",
    "g.clear()\n",
    "U_1.clear()\n",
    "U_2.clear()\n",
    "U_R.clear()"
   ]
  },
  {
   "cell_type": "markdown",
   "metadata": {},
   "source": [
    "## table 2-1"
   ]
  },
  {
   "cell_type": "code",
   "execution_count": 15,
   "metadata": {},
   "outputs": [],
   "source": [
    "U = [0.255, 0.131, 0.104, 0.075, 0.065, 0.058, 0.052, 0.043, 0.039, 0.033]\n",
    "U_1 = [0.342, 0.349, 0.350, 0.349, 0.349, 0.348, 0.347, 0.346, 0.344, 0.340]\n",
    "U_R = [0.728, 0.708, 0.704, 0.699, 0.697, 0.695, 0.693, 0.689, 0.687, 0.682]\n",
    "f = [0.2, 0.4, 0.5, 0.7, 0.8, 0.9, 1.0, 1.2, 1.3, 1.5]\n",
    "I_1 = []\n",
    "I_2 = []\n",
    "g1 = []\n",
    "g2 = []\n",
    "g = []\n",
    "L1 = []\n",
    "L = []\n",
    "delta_L = []\n",
    "R = 1 # k omega\n",
    "C = 1 # uF"
   ]
  },
  {
   "cell_type": "code",
   "execution_count": 5,
   "metadata": {},
   "outputs": [],
   "source": [
    "import math"
   ]
  },
  {
   "cell_type": "code",
   "execution_count": 16,
   "metadata": {},
   "outputs": [
    {
     "name": "stdout",
     "output_type": "stream",
     "text": [
      "I_1 = [0.342, 0.349, 0.35, 0.349, 0.349, 0.348, 0.347, 0.346, 0.344, 0.34]\n",
      "L1 = [0.796, 0.398, 0.318, 0.227, 0.199, 0.177, 0.159, 0.133, 0.122, 0.106]\n",
      "L = [0.919, 0.433, 0.298, 0.169, 0.13, 0.105, 0.086, 0.06, 0.05, 0.037]\n",
      "delta = [-0.123, -0.035, 0.02, 0.058, 0.069, 0.072, 0.073, 0.073, 0.072, 0.069]\n"
     ]
    }
   ],
   "source": [
    "for i in range(0, len(f)):\n",
    "    I_1.append(round(U_1[i]/R, 3))\n",
    "    I_2.append(round(U[i]*1000/1000, 3))\n",
    "    g1.append(round(I_1[i]/U[i], 3))\n",
    "    g2.append(round(I_2[i]/U_1[i], 3))\n",
    "    g.append(round((g1[i]+g2[i])/2, 3))\n",
    "    L1.append(round(U_1[i]/(2*math.pi*f[i]*I_1[i]), 3))\n",
    "    L.append(round(pow(C/g[i], 2), 3))\n",
    "    delta_L.append(round(L1[i]-L[i], 3))\n",
    "\n",
    "print(f\"I_1 = {I_1}\")\n",
    "print(f\"L1 = {L1}\")\n",
    "print(f\"L = {L}\")\n",
    "print(f\"delta = {delta_L}\")\n",
    "\n",
    "I_1.clear()\n",
    "I_2.clear()\n",
    "g1.clear()\n",
    "g2.clear()\n",
    "g.clear()\n",
    "L1.clear()\n",
    "L.clear()\n",
    "delta_L.clear()"
   ]
  }
 ],
 "metadata": {
  "kernelspec": {
   "display_name": "base",
   "language": "python",
   "name": "python3"
  },
  "language_info": {
   "codemirror_mode": {
    "name": "ipython",
    "version": 3
   },
   "file_extension": ".py",
   "mimetype": "text/x-python",
   "name": "python",
   "nbconvert_exporter": "python",
   "pygments_lexer": "ipython3",
   "version": "3.11.4"
  }
 },
 "nbformat": 4,
 "nbformat_minor": 2
}
