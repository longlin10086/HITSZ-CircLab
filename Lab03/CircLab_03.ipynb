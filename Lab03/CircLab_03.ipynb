{
 "cells": [
  {
   "cell_type": "markdown",
   "metadata": {},
   "source": [
    "## table 3-1"
   ]
  },
  {
   "cell_type": "code",
   "execution_count": 2,
   "metadata": {},
   "outputs": [
    {
     "name": "stdout",
     "output_type": "stream",
     "text": [
      "[650.17, 145.82, 145.82, 247.49, 166.89, 65.89, 65.89, 108.36]\n"
     ]
    }
   ],
   "source": [
    "table_31_a = [[19.44, 4.36, 29.9], [4.36, 7.4, 29.9], [4.99, 1.97, 29.9], [1.97, 3.24, 29.9]]\n",
    "z_ans_1 = []\n",
    "for i in range(0, len(table_31_a)):\n",
    "    z1 = round(table_31_a[i][0]/table_31_a[i][2]*1000, 2)\n",
    "    z2 = round(table_31_a[i][1]/table_31_a[i][2]*1000, 2)\n",
    "    z_ans_1.append(z1)\n",
    "    z_ans_1.append(z2)\n",
    "\n",
    "print(z_ans_1)"
   ]
  },
  {
   "cell_type": "code",
   "execution_count": 4,
   "metadata": {},
   "outputs": [
    {
     "name": "stdout",
     "output_type": "stream",
     "text": [
      "[647.99, 145.58, 145.58, 246.59, 166.67, 65.86, 65.86, 90.16]\n"
     ]
    }
   ],
   "source": [
    "table_32_a = [[32.27, 7.25, 49.8], [7.25, 12.28, 49.8], [8.30, 3.28, 49.8], [3.28, 4.49, 49.8]]\n",
    "z_ans_2 = []\n",
    "for i in range(0, len(table_32_a)):\n",
    "    z1 = round(table_32_a[i][0]/table_32_a[i][2]*1000, 2)\n",
    "    z2 = round(table_32_a[i][1]/table_32_a[i][2]*1000, 2)\n",
    "    z_ans_2.append(z1)\n",
    "    z_ans_2.append(z2)\n",
    "\n",
    "print(z_ans_2)"
   ]
  },
  {
   "cell_type": "code",
   "execution_count": 6,
   "metadata": {},
   "outputs": [
    {
     "name": "stdout",
     "output_type": "stream",
     "text": [
      "[25.333, 0.043, 1916.993, 3.255]\n"
     ]
    }
   ],
   "source": [
    "table_33_a = [[29.64, 1.17, 49.8], [29.33*1000, 15.3, 49.8*1000]] # Attention: 后列所填为 U_IO, -I2O, I1O\n",
    "A_ans_3 = []\n",
    "for i in range(0, len(table_33_a)):\n",
    "    A1 = round(table_33_a[i][0]/table_33_a[i][1], 3)\n",
    "    A2 = round(table_33_a[i][2]/table_33_a[i][1]/1000, 3)\n",
    "    A_ans_3.append(A1)\n",
    "    A_ans_3.append(A2)\n",
    "\n",
    "print(A_ans_3)"
   ]
  },
  {
   "cell_type": "code",
   "execution_count": 8,
   "metadata": {},
   "outputs": [
    {
     "name": "stdout",
     "output_type": "stream",
     "text": [
      "[0.0022815210140093396, -0.0013275517011340893, -0.001420947298198799, 0.0020146764509673116]\n"
     ]
    }
   ],
   "source": [
    "table_34_a = [[14.99, 34.2, -19.9], [14.99, -21.3, 30.2]]\n",
    "Y_ans_4 = []\n",
    "for i in range(0, len(table_34_a)):\n",
    "    Y1 = table_34_a[i][1]/table_34_a[i][0]/1000\n",
    "    Y2 = table_34_a[i][2]/table_34_a[i][0]/1000\n",
    "    Y_ans_4.append(Y1)\n",
    "    Y_ans_4.append(Y2)\n",
    "\n",
    "print(Y_ans_4)"
   ]
  },
  {
   "cell_type": "code",
   "execution_count": 13,
   "metadata": {},
   "outputs": [
    {
     "name": "stdout",
     "output_type": "stream",
     "text": [
      "[2.574, 0.015, 511.263, 3.341]\n"
     ]
    }
   ],
   "source": [
    "table_34_b = [[14.98, 5.82, 86.4], [14.98*1000, 29.3, 97.9*1000]] # Attention: 后列所填为 U_IO, -I2O, I1O\n",
    "A_ans_4 = []\n",
    "for i in range(0, len(table_34_b)):\n",
    "    A1 = round(table_34_b[i][0]/table_34_b[i][1], 3)\n",
    "    A2 = round(table_34_b[i][2]/table_34_b[i][1]/1000, 3)\n",
    "    A_ans_4.append(A1)\n",
    "    A_ans_4.append(A2)\n",
    "\n",
    "print(A_ans_4)"
   ]
  },
  {
   "cell_type": "code",
   "execution_count": 10,
   "metadata": {},
   "outputs": [
    {
     "name": "stdout",
     "output_type": "stream",
     "text": [
      "[640.13, 364.55, 495.97, 825.5]\n"
     ]
    }
   ],
   "source": [
    "table_35_a = [[19.14, 10.9, 29.9], [14.78, 24.6, 29.8]]\n",
    "z_ans_5 = []\n",
    "for i in range(0, len(table_35_a)):\n",
    "    z1 = round(table_35_a[i][0]/table_35_a[i][2]*1000, 2)\n",
    "    z2 = round(table_35_a[i][1]/table_35_a[i][2]*1000, 2)\n",
    "    z_ans_5.append(z1)\n",
    "    z_ans_5.append(z2)\n",
    "\n",
    "print(z_ans_5)"
   ]
  },
  {
   "cell_type": "code",
   "execution_count": 11,
   "metadata": {},
   "outputs": [
    {
     "name": "stdout",
     "output_type": "stream",
     "text": [
      "[0.005993288590604027, -0.001973154362416107, -0.0019318181818181817, 0.004999999999999999]\n"
     ]
    }
   ],
   "source": [
    "table_35_b = [[14.90, 89.3, -29.4], [14.96, -28.9, 74.8]]\n",
    "Y_ans_5 = []\n",
    "for i in range(0, len(table_34_a)):\n",
    "    Y1 = table_35_b[i][1]/table_35_b[i][0]/1000\n",
    "    Y2 = table_35_b[i][2]/table_35_b[i][0]/1000\n",
    "    Y_ans_5.append(Y1)\n",
    "    Y_ans_5.append(Y2)\n",
    "\n",
    "print(Y_ans_5)"
   ]
  },
  {
   "cell_type": "markdown",
   "metadata": {},
   "source": [
    "## 自主设计小实验"
   ]
  },
  {
   "cell_type": "code",
   "execution_count": 15,
   "metadata": {},
   "outputs": [
    {
     "name": "stdout",
     "output_type": "stream",
     "text": [
      "[419.732441471572, -0.6020066889632107, 0.49332443257676895, 0.0013484646194926568]\n"
     ]
    }
   ],
   "source": [
    "table_36_a = [[29.9, -18, 12.55], [14.98, 20.2/1000, 7.39/1000]]\n",
    "H_ans_6 = []\n",
    "for i in range(0, len(table_35_a)):\n",
    "    H2 = table_36_a[i][1]/table_36_a[i][0]\n",
    "    H1 = table_36_a[i][2]/table_36_a[i][0]*1000\n",
    "    H_ans_6.append(H1)\n",
    "    H_ans_6.append(H2)\n",
    "\n",
    "print(H_ans_6)"
   ]
  }
 ],
 "metadata": {
  "kernelspec": {
   "display_name": "Python 3",
   "language": "python",
   "name": "python3"
  },
  "language_info": {
   "codemirror_mode": {
    "name": "ipython",
    "version": 3
   },
   "file_extension": ".py",
   "mimetype": "text/x-python",
   "name": "python",
   "nbconvert_exporter": "python",
   "pygments_lexer": "ipython3",
   "version": "3.10.5"
  },
  "orig_nbformat": 4
 },
 "nbformat": 4,
 "nbformat_minor": 2
}
